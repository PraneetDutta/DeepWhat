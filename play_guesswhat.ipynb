{
 "cells": [
  {
   "cell_type": "code",
   "execution_count": 1,
   "metadata": {
    "collapsed": false
   },
   "outputs": [],
   "source": [
    "import numpy as np\n",
    "import matplotlib.pyplot as plt\n",
    "import torch\n",
    "from torch.autograd import Variable\n",
    "from PIL import Image\n",
    "\n",
    "%matplotlib inline\n",
    "plt.rcParams['figure.figsize'] = (10.0, 8.0) # set default size of plots\n",
    "plt.rcParams['image.interpolation'] = 'nearest'\n",
    "plt.rcParams['image.cmap'] = 'gray'\n",
    "\n",
    "import pickle\n",
    "import json\n",
    "\n",
    "from models.questioner import QuestionerNet\n",
    "from models.oracle import OracleNet\n",
    "from models.guesser import GuesserNet\n",
    "import data\n",
    "from vocab import VocabTagger\n",
    "from resnet_feature_extractor import ResnetFeatureExtractor"
   ]
  },
  {
   "cell_type": "code",
   "execution_count": null,
   "metadata": {
    "collapsed": false
   },
   "outputs": [],
   "source": [
    "resnet_feature_extractor = ResnetFeatureExtractor()\n",
    "vocab_tagger = VocabTagger()\n",
    "\n",
    "questioner_net = QuestionerNet().cuda()\n",
    "oracle_net = OracleNet().cuda()\n",
    "guesser_net = GuesserNet().cuda()\n",
    "\n",
    "oracle_net.load_state_dict(\n",
    "    torch.load(data.get_saved_model('oracle_gru2_fc3_cat32_h128_we64')))\n",
    "guesser_net.load_state_dict(\n",
    "    torch.load(data.get_saved_model('guesser_gru2_fc2_cat16_h256_we64')))\n",
    "questioner_net.load_state_dict(\n",
    "    torch.load(data.get_saved_model('questioner_lstm1_fc2')))"
   ]
  },
  {
   "cell_type": "code",
   "execution_count": null,
   "metadata": {
    "collapsed": false
   },
   "outputs": [],
   "source": [
    "split = 'train'\n",
    "\n",
    "i = 0\n",
    "with open(data.get_gw_file(split), 'r') as f:\n",
    "    for line in f:\n",
    "        example = json.loads(line)\n",
    "        img_path = data.get_coco_file(example['image']['file_name'])\n",
    "        img = Image.open(img_path)\n",
    "        if img.mode != 'RGB':\n",
    "            img = img.convert('RGB')\n",
    "        \n",
    "        i += 1\n",
    "        if i == 4:\n",
    "            break\n",
    "\n",
    "plt.imshow(img)"
   ]
  },
  {
   "cell_type": "code",
   "execution_count": null,
   "metadata": {
    "collapsed": false
   },
   "outputs": [],
   "source": [
    "feature = torch.from_numpy(resnet_feature_extractor.get_image_features(img))\n",
    "feature.unsqueeze_(0)\n",
    "feature_var = Variable(feature.cuda(), volatile=True)"
   ]
  },
  {
   "cell_type": "code",
   "execution_count": null,
   "metadata": {
    "collapsed": false
   },
   "outputs": [],
   "source": [
    "utterance, h = questioner_net.sample(feature_var, mode='sample')\n",
    "print(vocab_tagger.get_question_tokens(utterance))"
   ]
  },
  {
   "cell_type": "code",
   "execution_count": null,
   "metadata": {
    "collapsed": false
   },
   "outputs": [],
   "source": [
    "with open(data.get_processed_file('oracle', split, small=True), 'rb') as f:\n",
    "    tokens, question_lengths, features, categories, answers = pickle.load(f)"
   ]
  },
  {
   "cell_type": "code",
   "execution_count": null,
   "metadata": {
    "collapsed": false
   },
   "outputs": [],
   "source": [
    "features[0]"
   ]
  },
  {
   "cell_type": "code",
   "execution_count": null,
   "metadata": {
    "collapsed": false
   },
   "outputs": [],
   "source": [
    "vocab_tagger.vocab_map.get_id_from_token('can')"
   ]
  },
  {
   "cell_type": "code",
   "execution_count": null,
   "metadata": {
    "collapsed": true
   },
   "outputs": [],
   "source": []
  }
 ],
 "metadata": {
  "kernelspec": {
   "display_name": "Python 3",
   "language": "python",
   "name": "python3"
  },
  "language_info": {
   "codemirror_mode": {
    "name": "ipython",
    "version": 3
   },
   "file_extension": ".py",
   "mimetype": "text/x-python",
   "name": "python",
   "nbconvert_exporter": "python",
   "pygments_lexer": "ipython3",
   "version": "3.5.2"
  }
 },
 "nbformat": 4,
 "nbformat_minor": 0
}
