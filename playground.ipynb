{
 "cells": [
  {
   "cell_type": "code",
   "execution_count": 16,
   "metadata": {
    "collapsed": false
   },
   "outputs": [],
   "source": [
    "%matplotlib inline\n",
    "\n",
    "import pickle\n",
    "\n",
    "import numpy as np\n",
    "np.seterr(divide='ignore', invalid='ignore')\n",
    "import torch\n",
    "from torch.autograd import Variable\n",
    "import torch.nn as nn\n",
    "import torch.nn.functional as F\n",
    "from torch.utils.data import Dataset, DataLoader\n",
    "\n",
    "import json\n",
    "import data\n",
    "import vocab\n",
    "from vocab import VocabTagger\n",
    "import packed_sequence_utils as packed_util\n",
    "import matplotlib.mlab as mlab\n",
    "import matplotlib.pyplot as plt"
   ]
  },
  {
   "cell_type": "code",
   "execution_count": 34,
   "metadata": {
    "collapsed": false
   },
   "outputs": [
    {
     "name": "stdout",
     "output_type": "stream",
     "text": [
      "[0, 4, 5, 7, 8, 2, 2701, 4, 5, 7, 984, 10, 6, 505, 2, 2701, 4, 5, 12, 11, 6, 1, 9, 6, 599, 2, 2702, 4, 5, 12, 11, 6, 1, 10, 6, 52, 81, 2, 2702, 4, 5, 6, 179, 2, 2702, 4, 5, 12, 11, 6, 1, 10, 67, 57, 6, 145, 2, 2702, 4, 6, 8, 9, 6, 14, 82, 11, 6, 99, 2, 2702, 6, 8, 4, 63, 10, 6, 505, 9, 6, 13, 82, 11, 6, 99, 2, 2701, 4, 6, 8, 9, 13, 18, 11, 6, 129, 2, 2701, 4, 6, 8, 17, 67, 2, 2702, 4, 6, 8, 17, 46, 2, 2702, 4, 6, 8, 10, 6, 52, 136, 674, 2, 2702, 4, 6, 8, 63, 137, 6, 81, 11, 6, 92, 10, 67, 57, 6, 13, 2, 2701, 4, 6, 8, 1155, 12, 8, 11, 33, 92, 10, 67, 57, 6, 13, 2, 2702, 4, 6, 8, 63, 137, 6, 81, 11, 6, 92, 10, 46, 133, 6, 81, 137, 33, 92, 10, 67, 2, 2701, 4, 6, 8, 17, 19, 2, 2702, 4, 5, 6, 8, 17, 16, 2, 2702, 15, 1972, 4, 5, 7, 8, 10, 6, 505, 15, 6, 13, 11, 6, 129, 10, 6, 271, 28, 674, 2, 2701, 4, 5, 7, 8, 63, 10, 6, 505, 2, 2702, 4, 5, 7, 984, 2, 2701, 4, 6, 984, 9, 6, 14, 18, 11, 6, 129, 2, 2702, 4, 6, 984, 57, 165, 700, 2, 2702, 4, 6, 984, 10, 6, 505, 198, 6, 277, 11, 6, 129, 2, 2702, 4, 5, 6, 8, 10, 67, 63, 10, 6, 505, 9, 6, 13, 18, 11, 6, 99, 2, 2702, 4, 6, 8, 63, 10, 7, 81, 137, 33, 92, 2, 2702, 6, 8, 4, 63, 10, 6, 482, 81, 385, 6, 8, 10, 67, 2, 2702, 6, 8, 4, 63, 198, 33, 8, 10, 67, 2, 2702, 6, 8, 4, 137, 6, 8, 10, 67, 2, 2701, 4, 6, 8, 10, 6, 28, 13, 1064, 11, 6, 32, 137, 6, 92, 10, 67, 2, 2701, 6, 199, 33, 75, 2090, 6, 8, 4, 10, 6, 14, 82, 11, 33, 199, 2, 2701, 6, 8, 4, 10, 6, 28, 14, 82, 11, 33, 199, 2, 2701, 4, 6, 8, 17, 16, 133, 9, 6, 14, 185, 11, 6, 1, 199, 33, 75, 2090, 10, 277, 22, 6, 129, 2, 2702, 33, 8, 17, 16, 75, 2090, 4, 6, 8, 10, 12, 81, 344, 826, 2, 2701, 5, 5, 6, 8, 344, 13, 10, 6, 81, 826, 238, 33, 8, 10, 16, 75, 2090, 2, 2701, 3]\n"
     ]
    },
    {
     "data": {
      "image/png": "[encoded data removed]",
      "text/plain": [
       "<matplotlib.figure.Figure at 0x7fee94401668>"
      ]
     },
     "metadata": {},
     "output_type": "display_data"
    }
   ],
   "source": [
    "vocab_tagger = VocabTagger()\n",
    "graph_data = []\n",
    "with open(data.get_gw_file('train'), 'r') as f:\n",
    "    i = 0\n",
    "    for line in f:\n",
    "        i += 1\n",
    "        \n",
    "        example = json.loads(line)\n",
    "\n",
    "        dialogue_tokens = vocab_tagger.get_dialogue_tokens(example['qas'])w\n",
    "        graph_data.append(len(dialogue_tokens))\n",
    "        #print(len(dialogue_tokens))\n",
    "        \n",
    "n, bins, patches = plt.hist(graph_data, 50, normed=1, facecolor='green', alpha=0.75)"
   ]
  },
  {
   "cell_type": "code",
   "execution_count": 32,
   "metadata": {
    "collapsed": false
   },
   "outputs": [
    {
     "data": {
      "text/plain": [
       "6817"
      ]
     },
     "execution_count": 32,
     "metadata": {},
     "output_type": "execute_result"
    }
   ],
   "source": [
    "np.argmax(graph_data)"
   ]
  },
  {
   "cell_type": "code",
   "execution_count": null,
   "metadata": {
    "collapsed": true
   },
   "outputs": [],
   "source": []
  }
 ],
 "metadata": {
  "kernelspec": {
   "display_name": "Python 3",
   "language": "python",
   "name": "python3"
  },
  "language_info": {
   "codemirror_mode": {
    "name": "ipython",
    "version": 3
   },
   "file_extension": ".py",
   "mimetype": "text/x-python",
   "name": "python",
   "nbconvert_exporter": "python",
   "pygments_lexer": "ipython3",
   "version": "3.5.2"
  }
 },
 "nbformat": 4,
 "nbformat_minor": 0
}
